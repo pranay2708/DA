{
  "cells": [
    {
      "cell_type": "markdown",
      "metadata": {
        "id": "ip4Sv8zRJtT9"
      },
      "source": [
        "## EXP-3\n",
        "Pranay Tiwari\n",
        "2019120066"
      ]
    },
    {
      "cell_type": "code",
      "execution_count": null,
      "metadata": {
        "id": "ftk9JuNsJtUI"
      },
      "outputs": [],
      "source": [
        "import seaborn as sns\n",
        "import pandas as pd\n",
        "import matplotlib.pyplot as plt\n",
        "import numpy as np\n",
        "import statistics"
      ]
    },
    {
      "cell_type": "markdown",
      "metadata": {
        "id": "rUouqi3CJtUM"
      },
      "source": [
        "Importing all necessary libraries to perform SDA"
      ]
    },
    {
      "cell_type": "code",
      "execution_count": null,
      "metadata": {
        "id": "1ehTHmgYJtUN"
      },
      "outputs": [],
      "source": [
        "rd=pd.read_csv(\"commodity_prices.csv\")"
      ]
    },
    {
      "cell_type": "code",
      "execution_count": null,
      "metadata": {
        "id": "4Av0Xth1JtUP",
        "outputId": "b3bea5e5-e88c-41c4-f423-5d33aedfa8bd"
      },
      "outputs": [
        {
          "data": {
            "text/html": [
              "<div>\n",
              "<style scoped>\n",
              "    .dataframe tbody tr th:only-of-type {\n",
              "        vertical-align: middle;\n",
              "    }\n",
              "\n",
              "    .dataframe tbody tr th {\n",
              "        vertical-align: top;\n",
              "    }\n",
              "\n",
              "    .dataframe thead th {\n",
              "        text-align: right;\n",
              "    }\n",
              "</style>\n",
              "<table border=\"1\" class=\"dataframe\">\n",
              "  <thead>\n",
              "    <tr style=\"text-align: right;\">\n",
              "      <th></th>\n",
              "      <th>Year</th>\n",
              "      <th>Cocoa</th>\n",
              "      <th>Coffee</th>\n",
              "      <th>Tea</th>\n",
              "      <th>Crude Oil</th>\n",
              "      <th>Coal</th>\n",
              "      <th>Natural Gas</th>\n",
              "      <th>Banana</th>\n",
              "      <th>Sugar</th>\n",
              "      <th>Orange</th>\n",
              "      <th>...</th>\n",
              "      <th>Silver</th>\n",
              "      <th>Cotton</th>\n",
              "      <th>Rubber</th>\n",
              "      <th>Tobacco</th>\n",
              "      <th>Coconut Oil</th>\n",
              "      <th>Groundnut Oil</th>\n",
              "      <th>Palm Oil</th>\n",
              "      <th>Soybean</th>\n",
              "      <th>Logs</th>\n",
              "      <th>Sawnwood</th>\n",
              "    </tr>\n",
              "  </thead>\n",
              "  <tbody>\n",
              "    <tr>\n",
              "      <th>0</th>\n",
              "      <td>1960</td>\n",
              "      <td>0.59</td>\n",
              "      <td>0.92</td>\n",
              "      <td>1.03</td>\n",
              "      <td>1.63</td>\n",
              "      <td>NaN</td>\n",
              "      <td>0.14</td>\n",
              "      <td>0.14</td>\n",
              "      <td>0.07</td>\n",
              "      <td>0.13</td>\n",
              "      <td>...</td>\n",
              "      <td>0.91</td>\n",
              "      <td>0.65</td>\n",
              "      <td>0.78</td>\n",
              "      <td>1736.87</td>\n",
              "      <td>312.33</td>\n",
              "      <td>327.00</td>\n",
              "      <td>224.42</td>\n",
              "      <td>223.92</td>\n",
              "      <td>31.94</td>\n",
              "      <td>149.17</td>\n",
              "    </tr>\n",
              "    <tr>\n",
              "      <th>1</th>\n",
              "      <td>1961</td>\n",
              "      <td>0.48</td>\n",
              "      <td>0.90</td>\n",
              "      <td>0.95</td>\n",
              "      <td>1.57</td>\n",
              "      <td>NaN</td>\n",
              "      <td>0.15</td>\n",
              "      <td>0.13</td>\n",
              "      <td>0.06</td>\n",
              "      <td>0.13</td>\n",
              "      <td>...</td>\n",
              "      <td>0.92</td>\n",
              "      <td>0.67</td>\n",
              "      <td>0.60</td>\n",
              "      <td>1563.19</td>\n",
              "      <td>253.42</td>\n",
              "      <td>330.25</td>\n",
              "      <td>228.42</td>\n",
              "      <td>287.33</td>\n",
              "      <td>33.06</td>\n",
              "      <td>151.98</td>\n",
              "    </tr>\n",
              "    <tr>\n",
              "      <th>2</th>\n",
              "      <td>1962</td>\n",
              "      <td>0.46</td>\n",
              "      <td>0.83</td>\n",
              "      <td>0.97</td>\n",
              "      <td>1.52</td>\n",
              "      <td>NaN</td>\n",
              "      <td>0.16</td>\n",
              "      <td>0.13</td>\n",
              "      <td>0.06</td>\n",
              "      <td>0.11</td>\n",
              "      <td>...</td>\n",
              "      <td>1.08</td>\n",
              "      <td>0.65</td>\n",
              "      <td>0.56</td>\n",
              "      <td>1404.90</td>\n",
              "      <td>251.22</td>\n",
              "      <td>274.34</td>\n",
              "      <td>216.24</td>\n",
              "      <td>227.00</td>\n",
              "      <td>36.39</td>\n",
              "      <td>160.06</td>\n",
              "    </tr>\n",
              "    <tr>\n",
              "      <th>3</th>\n",
              "      <td>1963</td>\n",
              "      <td>0.55</td>\n",
              "      <td>0.81</td>\n",
              "      <td>0.95</td>\n",
              "      <td>1.50</td>\n",
              "      <td>NaN</td>\n",
              "      <td>0.16</td>\n",
              "      <td>0.14</td>\n",
              "      <td>0.18</td>\n",
              "      <td>0.09</td>\n",
              "      <td>...</td>\n",
              "      <td>1.28</td>\n",
              "      <td>0.65</td>\n",
              "      <td>0.52</td>\n",
              "      <td>1343.61</td>\n",
              "      <td>286.33</td>\n",
              "      <td>268.50</td>\n",
              "      <td>222.39</td>\n",
              "      <td>223.58</td>\n",
              "      <td>35.49</td>\n",
              "      <td>157.85</td>\n",
              "    </tr>\n",
              "    <tr>\n",
              "      <th>4</th>\n",
              "      <td>1964</td>\n",
              "      <td>0.51</td>\n",
              "      <td>1.01</td>\n",
              "      <td>0.93</td>\n",
              "      <td>1.45</td>\n",
              "      <td>NaN</td>\n",
              "      <td>0.15</td>\n",
              "      <td>0.17</td>\n",
              "      <td>0.13</td>\n",
              "      <td>0.08</td>\n",
              "      <td>...</td>\n",
              "      <td>1.29</td>\n",
              "      <td>0.65</td>\n",
              "      <td>0.49</td>\n",
              "      <td>1488.30</td>\n",
              "      <td>296.48</td>\n",
              "      <td>315.38</td>\n",
              "      <td>239.45</td>\n",
              "      <td>233.00</td>\n",
              "      <td>30.26</td>\n",
              "      <td>144.83</td>\n",
              "    </tr>\n",
              "  </tbody>\n",
              "</table>\n",
              "<p>5 rows × 31 columns</p>\n",
              "</div>"
            ],
            "text/plain": [
              "   Year  Cocoa  Coffee   Tea  Crude Oil  Coal  Natural Gas  Banana  Sugar  \\\n",
              "0  1960   0.59    0.92  1.03       1.63   NaN         0.14    0.14   0.07   \n",
              "1  1961   0.48    0.90  0.95       1.57   NaN         0.15    0.13   0.06   \n",
              "2  1962   0.46    0.83  0.97       1.52   NaN         0.16    0.13   0.06   \n",
              "3  1963   0.55    0.81  0.95       1.50   NaN         0.16    0.14   0.18   \n",
              "4  1964   0.51    1.01  0.93       1.45   NaN         0.15    0.17   0.13   \n",
              "\n",
              "   Orange  ...  Silver  Cotton  Rubber  Tobacco  Coconut Oil  Groundnut Oil  \\\n",
              "0    0.13  ...    0.91    0.65    0.78  1736.87       312.33         327.00   \n",
              "1    0.13  ...    0.92    0.67    0.60  1563.19       253.42         330.25   \n",
              "2    0.11  ...    1.08    0.65    0.56  1404.90       251.22         274.34   \n",
              "3    0.09  ...    1.28    0.65    0.52  1343.61       286.33         268.50   \n",
              "4    0.08  ...    1.29    0.65    0.49  1488.30       296.48         315.38   \n",
              "\n",
              "   Palm Oil  Soybean   Logs  Sawnwood  \n",
              "0    224.42   223.92  31.94    149.17  \n",
              "1    228.42   287.33  33.06    151.98  \n",
              "2    216.24   227.00  36.39    160.06  \n",
              "3    222.39   223.58  35.49    157.85  \n",
              "4    239.45   233.00  30.26    144.83  \n",
              "\n",
              "[5 rows x 31 columns]"
            ]
          },
          "execution_count": 4,
          "metadata": {},
          "output_type": "execute_result"
        }
      ],
      "source": [
        "rd.head()"
      ]
    },
    {
      "cell_type": "code",
      "execution_count": null,
      "metadata": {
        "id": "GamcXDl4JtUR",
        "outputId": "16b60dce-e588-4ad7-b5b6-61afc3b533bc"
      },
      "outputs": [
        {
          "data": {
            "text/plain": [
              "Year             1990.500000\n",
              "Cocoa               1.719677\n",
              "Coffee              2.527097\n",
              "Tea                 1.752581\n",
              "Crude Oil          30.891452\n",
              "Coal               48.505769\n",
              "Natural Gas         2.336935\n",
              "Banana              0.500323\n",
              "Sugar               0.237097\n",
              "Orange              0.475645\n",
              "Barley             83.452131\n",
              "Maize             120.307097\n",
              "Sorghum           113.635574\n",
              "Rice              296.025323\n",
              "Wheat             154.524839\n",
              "Beef                2.413548\n",
              "Chicken             1.136935\n",
              "Lamb                3.941765\n",
              "Shrimps             9.493871\n",
              "Gold              510.236613\n",
              "Platinum          566.927903\n",
              "Silver              8.678226\n",
              "Cotton              1.433710\n",
              "Rubber              1.218387\n",
              "Tobacco          2809.714194\n",
              "Coconut Oil       674.460806\n",
              "Groundnut Oil     938.567097\n",
              "Palm Oil          512.494032\n",
              "Soybean           574.069677\n",
              "Logs              175.032097\n",
              "Sawnwood          489.774355\n",
              "dtype: float64"
            ]
          },
          "execution_count": 5,
          "metadata": {},
          "output_type": "execute_result"
        }
      ],
      "source": [
        "rd.mean()"
      ]
    },
    {
      "cell_type": "markdown",
      "metadata": {
        "id": "_URwBpWaJtUS"
      },
      "source": [
        "The avg commodity price of tobacco is 2809.714. The avg price of Sugar is 0.23709677419354838 which is the lowest."
      ]
    },
    {
      "cell_type": "code",
      "execution_count": null,
      "metadata": {
        "id": "gjTYT7gZJtUT",
        "outputId": "d42865ff-f989-471f-a7c9-1d4297d7392b"
      },
      "outputs": [
        {
          "name": "stdout",
          "output_type": "stream",
          "text": [
            "2809.714193548386\n"
          ]
        },
        {
          "data": {
            "text/plain": [
              "0.23709677419354838"
            ]
          },
          "execution_count": 8,
          "metadata": {},
          "output_type": "execute_result"
        }
      ],
      "source": [
        "t = max(rd.mean())\n",
        "print(t)\n",
        "f = min(rd.mean())\n",
        "f"
      ]
    },
    {
      "cell_type": "code",
      "execution_count": null,
      "metadata": {
        "id": "NQcEQhiQJtUV",
        "outputId": "f6962c9e-a266-4ef5-e91c-b896cc1041a7"
      },
      "outputs": [
        {
          "data": {
            "text/plain": [
              "Year             1990.500\n",
              "Cocoa               1.605\n",
              "Coffee              2.705\n",
              "Tea                 1.655\n",
              "Crude Oil          19.895\n",
              "Coal               38.130\n",
              "Natural Gas         1.995\n",
              "Banana              0.435\n",
              "Sugar               0.210\n",
              "Orange              0.440\n",
              "Barley             77.230\n",
              "Maize             109.270\n",
              "Sorghum           105.110\n",
              "Rice              274.975\n",
              "Wheat             149.395\n",
              "Beef                2.300\n",
              "Chicken             1.070\n",
              "Lamb                2.880\n",
              "Shrimps            10.785\n",
              "Gold              362.845\n",
              "Platinum          423.825\n",
              "Silver              5.350\n",
              "Cotton              1.450\n",
              "Rubber              0.965\n",
              "Tobacco          2717.780\n",
              "Coconut Oil       584.170\n",
              "Groundnut Oil     891.750\n",
              "Palm Oil          487.990\n",
              "Soybean           548.045\n",
              "Logs              187.135\n",
              "Sawnwood          484.715\n",
              "dtype: float64"
            ]
          },
          "execution_count": 9,
          "metadata": {},
          "output_type": "execute_result"
        }
      ],
      "source": [
        "rd.median()"
      ]
    },
    {
      "cell_type": "markdown",
      "metadata": {
        "id": "3JJFhPafJtUX"
      },
      "source": [
        "The median values of orange, beef, cotton are as same as their mean values, hence their average commodity prices are same as their middle price values, hence the dataspread is not varied."
      ]
    },
    {
      "cell_type": "code",
      "execution_count": null,
      "metadata": {
        "id": "y_m-D0zsJtUY",
        "outputId": "0ca8898a-e037-4021-c1e6-7385c5f3ba47"
      },
      "outputs": [
        {
          "data": {
            "text/html": [
              "<div>\n",
              "<style scoped>\n",
              "    .dataframe tbody tr th:only-of-type {\n",
              "        vertical-align: middle;\n",
              "    }\n",
              "\n",
              "    .dataframe tbody tr th {\n",
              "        vertical-align: top;\n",
              "    }\n",
              "\n",
              "    .dataframe thead th {\n",
              "        text-align: right;\n",
              "    }\n",
              "</style>\n",
              "<table border=\"1\" class=\"dataframe\">\n",
              "  <thead>\n",
              "    <tr style=\"text-align: right;\">\n",
              "      <th></th>\n",
              "      <th>Year</th>\n",
              "      <th>Cocoa</th>\n",
              "      <th>Coffee</th>\n",
              "      <th>Tea</th>\n",
              "      <th>Crude Oil</th>\n",
              "      <th>Coal</th>\n",
              "      <th>Natural Gas</th>\n",
              "      <th>Banana</th>\n",
              "      <th>Sugar</th>\n",
              "      <th>Orange</th>\n",
              "      <th>...</th>\n",
              "      <th>Silver</th>\n",
              "      <th>Cotton</th>\n",
              "      <th>Rubber</th>\n",
              "      <th>Tobacco</th>\n",
              "      <th>Coconut Oil</th>\n",
              "      <th>Groundnut Oil</th>\n",
              "      <th>Palm Oil</th>\n",
              "      <th>Soybean</th>\n",
              "      <th>Logs</th>\n",
              "      <th>Sawnwood</th>\n",
              "    </tr>\n",
              "  </thead>\n",
              "  <tbody>\n",
              "    <tr>\n",
              "      <th>0</th>\n",
              "      <td>1960</td>\n",
              "      <td>2.89</td>\n",
              "      <td>1.37</td>\n",
              "      <td>1.66</td>\n",
              "      <td>1.21</td>\n",
              "      <td>39.67</td>\n",
              "      <td>0.16</td>\n",
              "      <td>0.14</td>\n",
              "      <td>0.28</td>\n",
              "      <td>0.17</td>\n",
              "      <td>...</td>\n",
              "      <td>1.29</td>\n",
              "      <td>0.65</td>\n",
              "      <td>0.86</td>\n",
              "      <td>1042.65</td>\n",
              "      <td>234.06</td>\n",
              "      <td>268.50</td>\n",
              "      <td>168.83</td>\n",
              "      <td>178.08</td>\n",
              "      <td>30.26</td>\n",
              "      <td>144.83</td>\n",
              "    </tr>\n",
              "    <tr>\n",
              "      <th>1</th>\n",
              "      <td>1961</td>\n",
              "      <td>NaN</td>\n",
              "      <td>3.08</td>\n",
              "      <td>NaN</td>\n",
              "      <td>1.27</td>\n",
              "      <td>NaN</td>\n",
              "      <td>NaN</td>\n",
              "      <td>0.37</td>\n",
              "      <td>NaN</td>\n",
              "      <td>0.40</td>\n",
              "      <td>...</td>\n",
              "      <td>NaN</td>\n",
              "      <td>NaN</td>\n",
              "      <td>NaN</td>\n",
              "      <td>1073.64</td>\n",
              "      <td>251.22</td>\n",
              "      <td>270.73</td>\n",
              "      <td>181.11</td>\n",
              "      <td>197.17</td>\n",
              "      <td>31.94</td>\n",
              "      <td>149.17</td>\n",
              "    </tr>\n",
              "    <tr>\n",
              "      <th>2</th>\n",
              "      <td>1962</td>\n",
              "      <td>NaN</td>\n",
              "      <td>3.32</td>\n",
              "      <td>NaN</td>\n",
              "      <td>1.32</td>\n",
              "      <td>NaN</td>\n",
              "      <td>NaN</td>\n",
              "      <td>NaN</td>\n",
              "      <td>NaN</td>\n",
              "      <td>NaN</td>\n",
              "      <td>...</td>\n",
              "      <td>NaN</td>\n",
              "      <td>NaN</td>\n",
              "      <td>NaN</td>\n",
              "      <td>1075.98</td>\n",
              "      <td>253.42</td>\n",
              "      <td>274.34</td>\n",
              "      <td>216.24</td>\n",
              "      <td>216.83</td>\n",
              "      <td>33.06</td>\n",
              "      <td>151.98</td>\n",
              "    </tr>\n",
              "    <tr>\n",
              "      <th>3</th>\n",
              "      <td>1963</td>\n",
              "      <td>NaN</td>\n",
              "      <td>NaN</td>\n",
              "      <td>NaN</td>\n",
              "      <td>1.33</td>\n",
              "      <td>NaN</td>\n",
              "      <td>NaN</td>\n",
              "      <td>NaN</td>\n",
              "      <td>NaN</td>\n",
              "      <td>NaN</td>\n",
              "      <td>...</td>\n",
              "      <td>NaN</td>\n",
              "      <td>NaN</td>\n",
              "      <td>NaN</td>\n",
              "      <td>1112.38</td>\n",
              "      <td>286.33</td>\n",
              "      <td>282.95</td>\n",
              "      <td>217.26</td>\n",
              "      <td>223.58</td>\n",
              "      <td>35.03</td>\n",
              "      <td>156.75</td>\n",
              "    </tr>\n",
              "    <tr>\n",
              "      <th>4</th>\n",
              "      <td>1964</td>\n",
              "      <td>NaN</td>\n",
              "      <td>NaN</td>\n",
              "      <td>NaN</td>\n",
              "      <td>1.36</td>\n",
              "      <td>NaN</td>\n",
              "      <td>NaN</td>\n",
              "      <td>NaN</td>\n",
              "      <td>NaN</td>\n",
              "      <td>NaN</td>\n",
              "      <td>...</td>\n",
              "      <td>NaN</td>\n",
              "      <td>NaN</td>\n",
              "      <td>NaN</td>\n",
              "      <td>1128.02</td>\n",
              "      <td>296.48</td>\n",
              "      <td>296.31</td>\n",
              "      <td>222.39</td>\n",
              "      <td>223.92</td>\n",
              "      <td>35.49</td>\n",
              "      <td>157.85</td>\n",
              "    </tr>\n",
              "    <tr>\n",
              "      <th>...</th>\n",
              "      <td>...</td>\n",
              "      <td>...</td>\n",
              "      <td>...</td>\n",
              "      <td>...</td>\n",
              "      <td>...</td>\n",
              "      <td>...</td>\n",
              "      <td>...</td>\n",
              "      <td>...</td>\n",
              "      <td>...</td>\n",
              "      <td>...</td>\n",
              "      <td>...</td>\n",
              "      <td>...</td>\n",
              "      <td>...</td>\n",
              "      <td>...</td>\n",
              "      <td>...</td>\n",
              "      <td>...</td>\n",
              "      <td>...</td>\n",
              "      <td>...</td>\n",
              "      <td>...</td>\n",
              "      <td>...</td>\n",
              "      <td>...</td>\n",
              "    </tr>\n",
              "    <tr>\n",
              "      <th>57</th>\n",
              "      <td>2017</td>\n",
              "      <td>NaN</td>\n",
              "      <td>NaN</td>\n",
              "      <td>NaN</td>\n",
              "      <td>96.24</td>\n",
              "      <td>NaN</td>\n",
              "      <td>NaN</td>\n",
              "      <td>NaN</td>\n",
              "      <td>NaN</td>\n",
              "      <td>NaN</td>\n",
              "      <td>...</td>\n",
              "      <td>NaN</td>\n",
              "      <td>NaN</td>\n",
              "      <td>NaN</td>\n",
              "      <td>4627.36</td>\n",
              "      <td>1281.12</td>\n",
              "      <td>1820.62</td>\n",
              "      <td>933.02</td>\n",
              "      <td>1055.39</td>\n",
              "      <td>305.43</td>\n",
              "      <td>852.80</td>\n",
              "    </tr>\n",
              "    <tr>\n",
              "      <th>58</th>\n",
              "      <td>2018</td>\n",
              "      <td>NaN</td>\n",
              "      <td>NaN</td>\n",
              "      <td>NaN</td>\n",
              "      <td>96.99</td>\n",
              "      <td>NaN</td>\n",
              "      <td>NaN</td>\n",
              "      <td>NaN</td>\n",
              "      <td>NaN</td>\n",
              "      <td>NaN</td>\n",
              "      <td>...</td>\n",
              "      <td>NaN</td>\n",
              "      <td>NaN</td>\n",
              "      <td>NaN</td>\n",
              "      <td>4790.50</td>\n",
              "      <td>1481.78</td>\n",
              "      <td>1866.09</td>\n",
              "      <td>1042.92</td>\n",
              "      <td>1225.60</td>\n",
              "      <td>307.55</td>\n",
              "      <td>876.34</td>\n",
              "    </tr>\n",
              "    <tr>\n",
              "      <th>59</th>\n",
              "      <td>2019</td>\n",
              "      <td>NaN</td>\n",
              "      <td>NaN</td>\n",
              "      <td>NaN</td>\n",
              "      <td>104.01</td>\n",
              "      <td>NaN</td>\n",
              "      <td>NaN</td>\n",
              "      <td>NaN</td>\n",
              "      <td>NaN</td>\n",
              "      <td>NaN</td>\n",
              "      <td>...</td>\n",
              "      <td>NaN</td>\n",
              "      <td>NaN</td>\n",
              "      <td>NaN</td>\n",
              "      <td>4865.96</td>\n",
              "      <td>1636.31</td>\n",
              "      <td>2075.09</td>\n",
              "      <td>1043.40</td>\n",
              "      <td>1260.81</td>\n",
              "      <td>360.51</td>\n",
              "      <td>889.09</td>\n",
              "    </tr>\n",
              "    <tr>\n",
              "      <th>60</th>\n",
              "      <td>2020</td>\n",
              "      <td>NaN</td>\n",
              "      <td>NaN</td>\n",
              "      <td>NaN</td>\n",
              "      <td>104.08</td>\n",
              "      <td>NaN</td>\n",
              "      <td>NaN</td>\n",
              "      <td>NaN</td>\n",
              "      <td>NaN</td>\n",
              "      <td>NaN</td>\n",
              "      <td>...</td>\n",
              "      <td>NaN</td>\n",
              "      <td>NaN</td>\n",
              "      <td>NaN</td>\n",
              "      <td>4908.30</td>\n",
              "      <td>1650.65</td>\n",
              "      <td>2144.74</td>\n",
              "      <td>1130.58</td>\n",
              "      <td>1297.66</td>\n",
              "      <td>389.81</td>\n",
              "      <td>897.94</td>\n",
              "    </tr>\n",
              "    <tr>\n",
              "      <th>61</th>\n",
              "      <td>2021</td>\n",
              "      <td>NaN</td>\n",
              "      <td>NaN</td>\n",
              "      <td>NaN</td>\n",
              "      <td>105.01</td>\n",
              "      <td>NaN</td>\n",
              "      <td>NaN</td>\n",
              "      <td>NaN</td>\n",
              "      <td>NaN</td>\n",
              "      <td>NaN</td>\n",
              "      <td>...</td>\n",
              "      <td>NaN</td>\n",
              "      <td>NaN</td>\n",
              "      <td>NaN</td>\n",
              "      <td>4990.77</td>\n",
              "      <td>1730.08</td>\n",
              "      <td>2359.06</td>\n",
              "      <td>1193.37</td>\n",
              "      <td>1385.41</td>\n",
              "      <td>390.51</td>\n",
              "      <td>939.45</td>\n",
              "    </tr>\n",
              "  </tbody>\n",
              "</table>\n",
              "<p>62 rows × 31 columns</p>\n",
              "</div>"
            ],
            "text/plain": [
              "    Year  Cocoa  Coffee   Tea  Crude Oil   Coal  Natural Gas  Banana  Sugar  \\\n",
              "0   1960   2.89    1.37  1.66       1.21  39.67         0.16    0.14   0.28   \n",
              "1   1961    NaN    3.08   NaN       1.27    NaN          NaN    0.37    NaN   \n",
              "2   1962    NaN    3.32   NaN       1.32    NaN          NaN     NaN    NaN   \n",
              "3   1963    NaN     NaN   NaN       1.33    NaN          NaN     NaN    NaN   \n",
              "4   1964    NaN     NaN   NaN       1.36    NaN          NaN     NaN    NaN   \n",
              "..   ...    ...     ...   ...        ...    ...          ...     ...    ...   \n",
              "57  2017    NaN     NaN   NaN      96.24    NaN          NaN     NaN    NaN   \n",
              "58  2018    NaN     NaN   NaN      96.99    NaN          NaN     NaN    NaN   \n",
              "59  2019    NaN     NaN   NaN     104.01    NaN          NaN     NaN    NaN   \n",
              "60  2020    NaN     NaN   NaN     104.08    NaN          NaN     NaN    NaN   \n",
              "61  2021    NaN     NaN   NaN     105.01    NaN          NaN     NaN    NaN   \n",
              "\n",
              "    Orange  ...  Silver  Cotton  Rubber  Tobacco  Coconut Oil  Groundnut Oil  \\\n",
              "0     0.17  ...    1.29    0.65    0.86  1042.65       234.06         268.50   \n",
              "1     0.40  ...     NaN     NaN     NaN  1073.64       251.22         270.73   \n",
              "2      NaN  ...     NaN     NaN     NaN  1075.98       253.42         274.34   \n",
              "3      NaN  ...     NaN     NaN     NaN  1112.38       286.33         282.95   \n",
              "4      NaN  ...     NaN     NaN     NaN  1128.02       296.48         296.31   \n",
              "..     ...  ...     ...     ...     ...      ...          ...            ...   \n",
              "57     NaN  ...     NaN     NaN     NaN  4627.36      1281.12        1820.62   \n",
              "58     NaN  ...     NaN     NaN     NaN  4790.50      1481.78        1866.09   \n",
              "59     NaN  ...     NaN     NaN     NaN  4865.96      1636.31        2075.09   \n",
              "60     NaN  ...     NaN     NaN     NaN  4908.30      1650.65        2144.74   \n",
              "61     NaN  ...     NaN     NaN     NaN  4990.77      1730.08        2359.06   \n",
              "\n",
              "    Palm Oil  Soybean    Logs  Sawnwood  \n",
              "0     168.83   178.08   30.26    144.83  \n",
              "1     181.11   197.17   31.94    149.17  \n",
              "2     216.24   216.83   33.06    151.98  \n",
              "3     217.26   223.58   35.03    156.75  \n",
              "4     222.39   223.92   35.49    157.85  \n",
              "..       ...      ...     ...       ...  \n",
              "57    933.02  1055.39  305.43    852.80  \n",
              "58   1042.92  1225.60  307.55    876.34  \n",
              "59   1043.40  1260.81  360.51    889.09  \n",
              "60   1130.58  1297.66  389.81    897.94  \n",
              "61   1193.37  1385.41  390.51    939.45  \n",
              "\n",
              "[62 rows x 31 columns]"
            ]
          },
          "execution_count": 12,
          "metadata": {},
          "output_type": "execute_result"
        }
      ],
      "source": [
        "rd.mode()"
      ]
    },
    {
      "cell_type": "markdown",
      "metadata": {
        "id": "6JMts5AjJtUZ"
      },
      "source": [
        "Mode of all prices of all commodities"
      ]
    },
    {
      "cell_type": "code",
      "execution_count": null,
      "metadata": {
        "id": "7yRVf7QJJtUa",
        "outputId": "febc2995-774f-4a4a-cf93-21bfa0e40779"
      },
      "outputs": [
        {
          "data": {
            "text/plain": [
              "Year             0.000000\n",
              "Cocoa            0.320483\n",
              "Coffee           0.353664\n",
              "Tea              0.341637\n",
              "Crude Oil        1.157491\n",
              "Coal             1.253486\n",
              "Natural Gas      1.309507\n",
              "Banana           0.775601\n",
              "Sugar            0.942986\n",
              "Orange           0.431370\n",
              "Barley           1.087130\n",
              "Maize            1.212836\n",
              "Sorghum          1.036623\n",
              "Rice             0.611817\n",
              "Wheat            0.712940\n",
              "Beef             0.707343\n",
              "Chicken          0.302458\n",
              "Lamb             1.177052\n",
              "Shrimps         -0.681148\n",
              "Gold             1.226473\n",
              "Platinum         0.989621\n",
              "Silver           1.444919\n",
              "Cotton           0.434822\n",
              "Rubber           2.001157\n",
              "Tobacco          0.237457\n",
              "Coconut Oil      1.185483\n",
              "Groundnut Oil    0.755748\n",
              "Palm Oil         0.799648\n",
              "Soybean          0.938917\n",
              "Logs             0.088749\n",
              "Sawnwood         0.101718\n",
              "dtype: float64"
            ]
          },
          "execution_count": 13,
          "metadata": {},
          "output_type": "execute_result"
        }
      ],
      "source": [
        "rd.skew()"
      ]
    },
    {
      "cell_type": "markdown",
      "metadata": {
        "id": "Xc3Cjj_iJtUb"
      },
      "source": [
        "Skewness characterizes the degree of asymmetry of a distribution around its mean\n",
        "\n",
        "Positive skewness indicates a distribution with an asymmetric tail extending toward more positive values\n",
        "\n",
        "Negative skewness indicates a distribution with an asymmetric tail extending toward more negative values\n",
        "\n",
        "The skewness of Logs, Sawnwood, Tobacco, Shrimps, Chicken, Orange, Tea, Coffee, Cocoa are closest to zero indicating  that these attributes have similar commodity prices in the dataset."
      ]
    },
    {
      "cell_type": "code",
      "execution_count": null,
      "metadata": {
        "id": "fgQ6G7KVJtUc",
        "outputId": "a6b8e493-6b21-4fa4-cfbd-dbcf2b2fb6bf"
      },
      "outputs": [
        {
          "data": {
            "text/plain": [
              "0.07912662612374406"
            ]
          },
          "execution_count": 17,
          "metadata": {},
          "output_type": "execute_result"
        }
      ],
      "source": [
        "statistics.variance(rd['Orange'])"
      ]
    },
    {
      "cell_type": "markdown",
      "metadata": {
        "id": "f97cHobxJtUd"
      },
      "source": [
        "Variance value for the attribute: orange is very low which indicates that there is less deviation from the mean of the attribute."
      ]
    },
    {
      "cell_type": "code",
      "execution_count": null,
      "metadata": {
        "id": "glxXOBcBJtUe",
        "outputId": "0a739a41-ca4c-402b-c7b0-9f73c4006026"
      },
      "outputs": [
        {
          "name": "stdout",
          "output_type": "stream",
          "text": [
            "Fail to Reject NUll Hypothesis thus null hypothesis true\n"
          ]
        }
      ],
      "source": [
        "#z test\n",
        "from numpy.random import randn\n",
        "from statsmodels.stats.weightstats import ztest\n",
        "\n",
        "alpha=0.05\n",
        "null_hypo=0.500323\n",
        "\n",
        "ztest_Score, p_value= ztest(rd['Banana'],value = null_hypo, alternative='larger')\n",
        "# the function outputs a p_value and z-score corresponding to that value, we compare the \n",
        "# p-value with alpha, if it is greater than alpha then we do not null hypothesis \n",
        "# else we reject it.\n",
        "  \n",
        "if(p_value <  alpha):\n",
        "  print(\"Reject Null Hypothesis\")\n",
        "else:\n",
        "  print(\"Fail to Reject NUll Hypothesis thus null hypothesis true\")"
      ]
    },
    {
      "cell_type": "markdown",
      "metadata": {
        "id": "x4RuwJRiYtC1"
      },
      "source": [
        "Z-test is a statistical method to determine whether the distribution of the test statistics can be approximated by a normal distribution\n",
        "\n",
        "It is the method to determine whether two sample means are approximately the same or different when their variance is known and the sample size is large"
      ]
    }
  ],
  "metadata": {
    "kernelspec": {
      "display_name": "Python 3.9.4 64-bit",
      "language": "python",
      "name": "python3"
    },
    "language_info": {
      "codemirror_mode": {
        "name": "ipython",
        "version": 3
      },
      "file_extension": ".py",
      "mimetype": "text/x-python",
      "name": "python",
      "nbconvert_exporter": "python",
      "pygments_lexer": "ipython3",
      "version": "3.9.4"
    },
    "orig_nbformat": 4,
    "vscode": {
      "interpreter": {
        "hash": "e363c22ce2793a8915f075e99d75f22c75a30f1aee5699f18e5d8966ab1adaba"
      }
    },
    "colab": {
      "provenance": []
    }
  },
  "nbformat": 4,
  "nbformat_minor": 0
}